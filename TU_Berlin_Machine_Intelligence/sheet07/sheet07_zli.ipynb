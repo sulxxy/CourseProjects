{
 "cells": [
  {
   "cell_type": "code",
   "execution_count": 9,
   "metadata": {
    "collapsed": true
   },
   "outputs": [],
   "source": [
    "import numpy as np\n",
    "import matplotlib.pyplot as plt\n",
    "from sklearn.mixture import GaussianMixture\n",
    "%matplotlib inline"
   ]
  },
  {
   "cell_type": "markdown",
   "metadata": {},
   "source": [
    "# H7.1 Training Data"
   ]
  },
  {
   "cell_type": "code",
   "execution_count": 71,
   "metadata": {},
   "outputs": [
    {
     "data": {
      "image/png": "[encoded data removed]",
      "text/plain": [
       "<matplotlib.figure.Figure at 0x108607e90>"
      ]
     },
     "metadata": {},
     "output_type": "display_data"
    }
   ],
   "source": [
    "p = 120\n",
    "mu_1 = np.array([0, 1]).reshape(2,1)\n",
    "mu_2 = np.array([1, 0]).reshape(2,1)\n",
    "mu_3 = np.array([0, 0]).reshape(2,1)\n",
    "mu_4 = np.array([1, 1]).reshape(2,1)\n",
    "sigma = np.array([np.sqrt(0.1), np.sqrt(0.1)]).reshape(2,1)\n",
    "\n",
    "x_1 = np.random.normal(mu_1, sigma, (2, 30))\n",
    "x_2 = np.random.normal(mu_2, sigma, (2, 30))\n",
    "X1 = np.concatenate((x_1, x_2), axis=1)\n",
    "Y1 = np.array([0]*60)\n",
    "\n",
    "x_3 = np.random.normal(mu_3, sigma, (2, 30))\n",
    "x_4 = np.random.normal(mu_4, sigma, (2, 30))\n",
    "X2 = np.concatenate((x_3, x_4), axis=1)\n",
    "Y2 = np.array([1]*60)\n",
    "\n",
    "X = np.concatenate((X1, X2), axis=1)\n",
    "Y = np.concatenate((Y1, Y2))\n",
    "\n",
    "# plt.scatter(x_1[0], x_1[1], color='r', label='y:0')\n",
    "plt.scatter(X1[0], X1[1], color='r', label='y:0')\n",
    "# plt.scatter(x_3[0], x_3[1], color='g', label='y:1')\n",
    "plt.scatter(X2[0], X2[1], color='g', label='y:1')\n",
    "plt.legend()\n",
    "plt.show()"
   ]
  },
  {
   "cell_type": "markdown",
   "metadata": {},
   "source": [
    "# H7.2 KNN"
   ]
  },
  {
   "cell_type": "code",
   "execution_count": 83,
   "metadata": {},
   "outputs": [
    {
     "name": "stdout",
     "output_type": "stream",
     "text": [
      "(1271, 2)\n"
     ]
    }
   ],
   "source": [
    "x_range = np.arange(-2.0, 2.01, 0.1)\n",
    "y_range = np.arange(-1.0, 2.01, 0.1)\n",
    "X_query, Y_query = np.meshgrid(x_range, y_range)\n",
    "# X_query = X_query.flatten\n",
    "test_data = np.array(list(zip(X_query.flatten(), Y_query.flatten())))\n",
    "print test_data.shape\n"
   ]
  },
  {
   "cell_type": "markdown",
   "metadata": {},
   "source": [
    "# H7.3 \"Parzen Window\" Classifier"
   ]
  },
  {
   "cell_type": "markdown",
   "metadata": {},
   "source": [
    "# H7.4 RBF Network"
   ]
  },
  {
   "cell_type": "markdown",
   "metadata": {},
   "source": []
  }
 ],
 "metadata": {
  "kernelspec": {
   "display_name": "Python 2",
   "language": "python",
   "name": "python2"
  },
  "language_info": {
   "codemirror_mode": {
    "name": "ipython",
    "version": 2
   },
   "file_extension": ".py",
   "mimetype": "text/x-python",
   "name": "python",
   "nbconvert_exporter": "python",
   "pygments_lexer": "ipython2",
   "version": "2.7.14"
  }
 },
 "nbformat": 4,
 "nbformat_minor": 2
}
